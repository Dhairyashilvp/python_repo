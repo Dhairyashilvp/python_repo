{
 "cells": [
  {
   "cell_type": "code",
   "execution_count": 21,
   "metadata": {},
   "outputs": [
    {
     "output_type": "stream",
     "name": "stdout",
     "text": "        *                 *         \n      * * *             * * *       \n    * * * * *         * * * * *     \n  * * * * * * *     * * * * * * *   \n* * * * * * * * * * * * * * * * * * \n"
    }
   ],
   "source": [
    "#p = \"*\"\n",
    "N\n",
    "l = 4\n",
    "a = 1\n",
    "for h in range(5):\n",
    "    for x in range(l):\n",
    "        print(\"  \",end='')\n",
    "    for y in range(a):    \n",
    "        print('* ',end='')\n",
    "    for z in range(l):   \n",
    "        print('  ',end='')\n",
    "    for p in range(l):   \n",
    "        print('  ',end='')\n",
    "    for q in range(a):   \n",
    "        print('* ',end='')\n",
    "    for r in range(l):   \n",
    "        print('  ',end='')\n",
    "    l = l-1\n",
    "    a = a+2\n",
    "    print()"
   ]
  },
  {
   "cell_type": "code",
   "execution_count": 26,
   "metadata": {},
   "outputs": [
    {
     "output_type": "stream",
     "name": "stdout",
     "text": "        *               *         \n      * * *           * * *       \n    * * * * *       * * * * *     \n  * * * * * * *   * * * * * * *   \n* * * * * * * * * * * * * * * * * \n"
    }
   ],
   "source": [
    "#p = \"*\"\n",
    "N = 5\n",
    "l = N-1\n",
    "a = 1\n",
    "for h in range(N):\n",
    "    for x in range(l):\n",
    "        print(\"  \",end='')\n",
    "    for y in range(a):    \n",
    "        print('* ',end='')\n",
    "    for z in range(l):   \n",
    "        print('  ',end='')\n",
    "    for p in range(l-1):   \n",
    "        print('  ',end='')\n",
    "    for q in range(a-1 if h == N-1 else a):   \n",
    "        print('* ',end='')\n",
    "    for r in range(l):\n",
    "        print('  ',end='')\n",
    "    l = l-1\n",
    "    a = a + 2\n",
    "    print()"
   ]
  }
 ],
 "metadata": {
  "language_info": {
   "codemirror_mode": {
    "name": "ipython",
    "version": 3
   },
   "file_extension": ".py",
   "mimetype": "text/x-python",
   "name": "python",
   "nbconvert_exporter": "python",
   "pygments_lexer": "ipython3",
   "version": "3.7.4-final"
  },
  "orig_nbformat": 2,
  "kernelspec": {
   "name": "python37464bit3418083905e742398ab8fae178929940",
   "display_name": "Python 3.7.4 64-bit"
  }
 },
 "nbformat": 4,
 "nbformat_minor": 2
}