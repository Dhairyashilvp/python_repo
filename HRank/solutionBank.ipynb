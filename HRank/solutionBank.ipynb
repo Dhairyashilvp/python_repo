{
 "cells": [
  {
   "cell_type": "code",
   "execution_count": null,
   "metadata": {},
   "outputs": [],
   "source": [
    "def diagonalDifference(arr):\n",
    "    m = n = 0\n",
    "    d1 = 0\n",
    "    d2 = 0\n",
    "    l = (len(arr[0])) - 1\n",
    "    print(\"length:\"+str(l))\n",
    "    for i in arr:\n",
    "        n = 0\n",
    "        for j in i:\n",
    "            if m == n:\n",
    "                # print(\"m==n loop :: m:\"+str(m)+\" :: n:\"+str(n)+\" :: l:\"+str(l))\n",
    "                print(str(d1)+\" + \"+str(j)+\" = \"+str(d1 + j))\n",
    "                d1 += j\n",
    "            if l == n:\n",
    "                # print(\"l==n loop :: m:\"+str(m)+\" :: n:\"+str(n)+\" :: l:\"+str(l))\n",
    "                print(str(d2)+\" + \"+str(j)+\" = \"+str(d2 + j))\n",
    "                d2 += j\n",
    "            n += 1\n",
    "            # print(\"m:\"+str(m)+\" :: n:\"+str(n)+\" :: l:\"+str(l))\n",
    "        m += 1        \n",
    "        l -= 1\n",
    "        # print(\"l:\"+str(l))\n",
    "    # print(d1)\n",
    "    # print(d2)\n",
    "    return abs(d1 - d2)\n",
    "            \n",
    "# fptr = open(os.environ['OUTPUT_PATH'], 'w')\n",
    "\n",
    "n = int(input().strip())\n",
    "\n",
    "arr = []\n",
    "\n",
    "for _ in range(n):\n",
    "    arr.append(list(map(int, input().rstrip().split())))\n",
    "\n",
    "result = diagonalDifference(arr)\n",
    "print(\"diagonalDifference : \",end=\"\")\n",
    "print(result)\n",
    "# fptr.write(str(result) + '\\n')\n",
    "\n",
    "# fptr.close()\n"
   ]
  },
  {
   "cell_type": "markdown",
   "metadata": {},
   "source": [
    "Day of programmer"
   ]
  },
  {
   "cell_type": "code",
   "execution_count": null,
   "metadata": {},
   "outputs": [],
   "source": [
    "from calendar import monthrange\n",
    "year = 1918\n",
    "noyear = []\n",
    "tot = 0\n",
    "for i in range(1,13):\n",
    "    if i == 2:\n",
    "        if year > 1919:\n",
    "            if (year % 400) == 0:  \n",
    "                mr = 29  \n",
    "            else: \n",
    "                if (year % 4) == 0 and (year % 100) != 0:\n",
    "                    mr = 29\n",
    "                else:\n",
    "                    mr = 28\n",
    "        else:\n",
    "            if (year % 4) == 0:  \n",
    "                mr = 29  \n",
    "            else:\n",
    "                if year == 1918:\n",
    "                    mr = 28 - 13\n",
    "                else:\n",
    "                    mr = 28     \n",
    "    else:\n",
    "        mr = monthrange(year, i)[1]\n",
    "    print(str(i) + \" : \" + str(mr) + \":: tot :\" + str(tot))\n",
    "    print(noyear)\n",
    "    if (tot + mr) >= 256:\n",
    "        d = 256 - tot\n",
    "        print(d)\n",
    "        print(\"{0:0=2d}\".format(i)) \n",
    "        break\n",
    "    else:\n",
    "        tot += mr\n",
    "    # months[i] = mr\n",
    "\n",
    "# print(months)"
   ]
  },
  {
   "cell_type": "markdown",
   "metadata": {},
   "source": [
    "maximizeIt --> lambda, map, max, sum, itertools.product() "
   ]
  },
  {
   "cell_type": "markdown",
   "metadata": {},
   "source": [
    "How Product work:\n",
    "from itertools import product\n",
    "\n",
    "a = [1, 2]\n",
    "b = [4, 5]\n",
    "c = [\"x\", \"y\", \"z\"]\n",
    "print(*product(a, b, c))\n",
    "(1, 4, 'x') (1, 4, 'y') (1, 4, 'z')\n",
    "(1, 5, 'x') (1, 5, 'y') (1, 5, 'z')\n",
    "(2, 4, 'x') (2, 4, 'y') (2, 4, 'z')\n",
    "(2, 5, 'x') (2, 5, 'y') (2, 5, 'z')"
   ]
  },
  {
   "cell_type": "code",
   "execution_count": null,
   "metadata": {},
   "outputs": [],
   "source": [
    "import os\n",
    "from itertools import product\n",
    "\n",
    "def maximizeIt(arr,M):\n",
    "    # print(arr)\n",
    "    ret = map(lambda x: sum(i**2 for i in x)%M ,product(*arr))\n",
    "           \n",
    "    return max(ret)\n",
    " \n",
    "\n",
    "fptr = open(os.environ['OUTPUT_PATH'], 'w')\n",
    "\n",
    "K,M = map(int, input().rstrip().split())\n",
    "arr = []\n",
    "for _ in range(K):\n",
    "    arr.append(list(map(int, input().split()))[1:])\n",
    "\n",
    "result = maximizeIt(arr, M)\n",
    "fptr.write(str(result) + '\\n')\n",
    "fptr.close()"
   ]
  },
  {
   "cell_type": "code",
   "execution_count": null,
   "metadata": {},
   "outputs": [],
   "source": [
    "n=5\n",
    "N = (list(map(int, input().split()))[1:] for _ in range(K))\n",
    "\n",
    "p = (list(map(int,i**2 for i in range(n))))\n",
    "print(p)"
   ]
  },
  {
   "cell_type": "code",
   "execution_count": null,
   "metadata": {},
   "outputs": [],
   "source": [
    "A = list(set(map(int,input().split())))\n",
    "# B = list(set(map(int,input().split())))\n",
    "print(A)\n",
    "# print(B)"
   ]
  },
  {
   "cell_type": "code",
   "execution_count": null,
   "metadata": {},
   "outputs": [],
   "source": [
    "# n,m = map(int,input().split())\n",
    "n = 5\n",
    "m = 2\n",
    "nel = [1,2,3,3,4,5]\n",
    "A = list(map(int,input().split()))\n",
    "B = list(map(int,input().split()))\n",
    "h = list((i in A) - (i in B) for i in nel)\n",
    "# 1 3\n",
    "# 2 7\n",
    "# for i in range(m):\n",
    "#     if nel.count(A[i]) > 0 :\n",
    "#         print(A[i])\n",
    "#         h += nel.count(A[i])\n",
    "#     if nel.count(B[i]) > 0 :\n",
    "#         print(B[i])\n",
    "#         h -= nel.count(B[i])\n",
    "print(h)\n",
    "print(nel)\n",
    "print(A)\n",
    "print(B)"
   ]
  },
  {
   "cell_type": "markdown",
   "metadata": {},
   "source": [
    "Finding the percentage\n",
    "Input -->  \n",
    "2\n",
    "Harsh 25 26.5 28\n",
    "Anurag 26 28 30\n",
    "Harsh"
   ]
  },
  {
   "cell_type": "code",
   "execution_count": null,
   "metadata": {},
   "outputs": [],
   "source": [
    "#1\n",
    "N=int(input())\n",
    "stu_arr = list(list(map(str,input().rstrip().split()))for _ in range(N))\n",
    "q = input()\n",
    "t=0\n",
    "for i in stu_arr:\n",
    "    if q in i:\n",
    "        i.remove(q)\n",
    "        l = len(i)\n",
    "        for j in i:\n",
    "            t += float(j)\n",
    "print(\"{:.2f}\".format(t/float(l)))"
   ]
  },
  {
   "cell_type": "code",
   "execution_count": null,
   "metadata": {},
   "outputs": [],
   "source": [
    "#2\n",
    "n = int(input())\n",
    "student_marks = {}\n",
    "for _ in range(n):\n",
    "    name, *line = input().split()\n",
    "    scores = list(map(float, line))\n",
    "    scores=sum(scores)/3\n",
    "    student_marks[name] = scores\n",
    "query_name = input()    \n",
    "print('%.2f' % student_marks[query_name])"
   ]
  },
  {
   "cell_type": "markdown",
   "metadata": {},
   "source": [
    "itertools.permutations()\n",
    "input --> HACK 2"
   ]
  },
  {
   "cell_type": "code",
   "execution_count": null,
   "metadata": {},
   "outputs": [],
   "source": [
    "#1\n",
    "from itertools import permutations\n",
    "s,n = input().split()\n",
    "print(*[''.join(i) for i in permutations(sorted(s),int(n))],sep='#')"
   ]
  },
  {
   "cell_type": "code",
   "execution_count": null,
   "metadata": {},
   "outputs": [],
   "source": [
    "#2\n",
    "import itertools\n",
    "w,l = input().split()\n",
    "t = list(itertools.permutations(w,int(l)))\n",
    "t.sort()\n",
    "for i in t:\n",
    "    for j in i:\n",
    "        print(j,end=\"\")\n",
    "    print()"
   ]
  },
  {
   "cell_type": "code",
   "execution_count": null,
   "metadata": {},
   "outputs": [],
   "source": []
  },
  {
   "cell_type": "markdown",
   "metadata": {},
   "source": [
    "String Similarity\n",
    "Input --> ababaa\n",
    "Z Algorithm for Pattern Matching"
   ]
  },
  {
   "cell_type": "code",
   "execution_count": null,
   "metadata": {},
   "outputs": [],
   "source": [
    "#Not optimized solution\n",
    "import copy\n",
    "s = list(\"ababaa\")\n",
    "t = 0\n",
    "c = 0\n",
    "m = 0\n",
    "ss = copy.deepcopy(s)\n",
    "while True:\n",
    "    if ss:\n",
    "        if c < len(ss):            \n",
    "            if ss[c] == s[c]:\n",
    "                c += 1\n",
    "                m += 1\n",
    "            else:\n",
    "                c = len(ss)\n",
    "        else:\n",
    "            t += m\n",
    "            m = 0\n",
    "            ss.pop(0)\n",
    "            c = 0\n",
    "    else:\n",
    "        break \n",
    "print(t)"
   ]
  },
  {
   "cell_type": "code",
   "execution_count": null,
   "metadata": {},
   "outputs": [],
   "source": [
    "#Z Algorithm for Pattern Matching\n",
    "s = \"ababaa\"\n",
    "t=s+\"$\"+s\n",
    "print(\"t:\",t)\n",
    "l=0\n",
    "r=0\n",
    "z=[0]*len(t)\n",
    "for i in range(len(t)):\n",
    "    if(i>r):\n",
    "        print(\"if-\",\"i:\",i,\":: r:\",r)\n",
    "        l=r=i\n",
    "        while(r<len(t) and t[r]==t[r-l]):\n",
    "            print(\"if-\",\"t[\",r,\"]:\",t[r],\"t[\",r-1,\"]:\",t[r-1])\n",
    "            r+=1\n",
    "        z[i]=r-l\n",
    "        r-=1\n",
    "    else:\n",
    "        print(\"el-\",\"i:\",i,\":: r:\",r)\n",
    "        i1=i-l\n",
    "        if(z[i1]<r-i+1):\n",
    "            z[i]=z[i1]\n",
    "        else:\n",
    "            l=i\n",
    "            while(r<len(t) and t[r]==t[r-l]):\n",
    "                print(\"el-\",\"t[\",r,\"]:\",t[r],\"t[\",r-1,\"]:\",t[r-1])\n",
    "                r+=1\n",
    "            z[i]=r-l\n",
    "            r-=1\n",
    "    print(z)\n",
    "print(z)\n",
    "print( sum(z[len(s)+1:]))"
   ]
  },
  {
   "cell_type": "code",
   "execution_count": null,
   "metadata": {},
   "outputs": [],
   "source": []
  },
  {
   "cell_type": "code",
   "execution_count": 74,
   "metadata": {},
   "outputs": [
    {
     "output_type": "stream",
     "name": "stdout",
     "text": "aacbbabaccddbdbadbac\n"
    }
   ],
   "source": [
    "s = \"dbac\"\n",
    "res = []\n",
    "ret = \"\"\n",
    "k = 3\n",
    "res = list(set([s[i: j] for i in range(len(s))for j in range(i + 1, len(s) + 1)]))\n",
    "res.sort()\n",
    "# for i in res:\n",
    "#     ret += i\n",
    "ret = ret.join(res)\n",
    "print(ret)"
   ]
  },
  {
   "cell_type": "code",
   "execution_count": 72,
   "metadata": {},
   "outputs": [
    {
     "output_type": "stream",
     "name": "stdout",
     "text": "['d', 'db', 'dba', 'dbac', 'b', 'ba', 'bac', 'a', 'ac', 'c']\nc\n"
    }
   ],
   "source": [
    "def ashtonString(s, k):\n",
    "    mylist = [test_str[i: j] for i in range(len(test_str))for j in range(i + 1, len(test_str) + 1)]\n",
    "    mylist = list(dict.fromkeys(mylist))\n",
    "    print(mylist)\n",
    "\n",
    "    mylist.sort()\n",
    "    s = \"\"\n",
    "    s = s.join(mylist);\n",
    "    return s[k-1]\n",
    "re = ashtonString(\"dbac\",3)\n",
    "print(re)"
   ]
  },
  {
   "cell_type": "code",
   "execution_count": null,
   "metadata": {},
   "outputs": [],
   "source": [
    "s = \"dbac\"\n",
    "res = []\n",
    "ret = \"\"\n",
    "k = 3\n",
    "# res = list(set([s[i: j] for i in range(len(s))for j in range(i + 1, len(s) + 1)]))\n",
    "res.sort()\n",
    "# for i in res:\n",
    "#     ret += i\n",
    "ret = ret.join(res)\n",
    "print(ret)"
   ]
  }
 ],
 "metadata": {
  "language_info": {
   "codemirror_mode": {
    "name": "ipython",
    "version": 3
   },
   "file_extension": ".py",
   "mimetype": "text/x-python",
   "name": "python",
   "nbconvert_exporter": "python",
   "pygments_lexer": "ipython3",
   "version": "3.7.4-final"
  },
  "orig_nbformat": 2,
  "kernelspec": {
   "name": "python37464bit3418083905e742398ab8fae178929940",
   "display_name": "Python 3.7.4 64-bit"
  }
 },
 "nbformat": 4,
 "nbformat_minor": 2
}