{
 "metadata": {
  "language_info": {
   "codemirror_mode": {
    "name": "ipython",
    "version": 3
   },
   "file_extension": ".py",
   "mimetype": "text/x-python",
   "name": "python",
   "nbconvert_exporter": "python",
   "pygments_lexer": "ipython3",
   "version": 3
  },
  "orig_nbformat": 2,
  "kernelspec": {
   "name": "python_defaultSpec_1596316044989",
   "display_name": "Python 3.7.4 64-bit"
  }
 },
 "nbformat": 4,
 "nbformat_minor": 2,
 "cells": [
  {
   "cell_type": "code",
   "execution_count": null,
   "metadata": {},
   "outputs": [],
   "source": [
    "import os\n",
    "import win32api\n",
    "import numpy as np\n",
    "import json"
   ]
  },
  {
   "cell_type": "code",
   "execution_count": null,
   "metadata": {
    "tags": []
   },
   "outputs": [],
   "source": [
    "extlist = (\".aiff\",\".au\",\".avi\",\".bat\",\".bmp\",\".bin\",\".class\",\".csv\",\".cvs\",\".dbf\",\".dif\",\".doc\",\".eps\",\".exe\",\".fm3\",\".gif\",\".hqx\",\".htm\",\".html\",\".jpg\",\".mac\",\".map\",\".mdb\",\".mid\",\".mov\",\".mtb\",\".msi\",\".pdf\",\".p65\",\".t65\",\".png\",\".ppt\",\".psd\",\".psp\",\".qxd\",\".ra\",\".rtf\",\".sit\",\".tar\",\".tif\",\".txt\",\".wav\",\".wk3\",\".wks\",\"wpd\",\".xls\",\".xml\",\".zip\")\n",
    "excludedir = [\"SpringB\", \"System Volume Information\", \"VM's\", \"VMWare\", \"configuration\", \"cache\", \"user_data\", \"htdocks\", \"log\", \"LOST.DIR\", \"Android\", \"Backup\", \"Install\", \"Photos\", \"WhatsApp\", \".thumbnails\", \".Thumbs\", \".trash\", \".Shared\", \"Databases\", \".Statuses\", \"\", \"\"]\n",
    "drives = win32api.GetLogicalDriveStrings()\n",
    "drives = np.array(drives.split('\\000')[:-1])\n",
    "print(drives)"
   ]
  },
  {
   "cell_type": "code",
   "execution_count": null,
   "metadata": {},
   "outputs": [],
   "source": [
    "def extractdata(dirPath,prevdir=\"\"):\n",
    "    files = []\n",
    "    documentFile ={}\n",
    "    if prevdir == \"\":\n",
    "        prevdir = dirPath\n",
    "    filesAndFolderslList = os.listdir(dirPath)\n",
    "    for filesAndFolders in filesAndFolderslList:\n",
    "        if filesAndFolders.lower().endswith(extlist) or os.path.isfile(dirPath+\"\\\\\"+filesAndFolders):\n",
    "            files.append(filesAndFolders)\n",
    "            if  documentFile.get(prevdir):\n",
    "                documentFile['files'] = files\n",
    "            else:\n",
    "                documentFile['files'] = files\n",
    "        else:\n",
    "            if filesAndFolders not in excludedir and len(os.listdir(dirPath+\"\\\\\"+filesAndFolders)) > 0 :\n",
    "                if  documentFile.get(prevdir):   \n",
    "                    documentFile[filesAndFolders] = extractdata(dirPath+\"\\\\\"+filesAndFolders,filesAndFolders)\n",
    "                else:\n",
    "                    documentFile[filesAndFolders] = extractdata(dirPath+\"\\\\\"+filesAndFolders,filesAndFolders)\n",
    "    return documentFile\n"
   ]
  },
  {
   "cell_type": "code",
   "execution_count": null,
   "metadata": {
    "tags": []
   },
   "outputs": [],
   "source": [
    "finaldict = {}\n",
    "for driveName in drives[3:4]:\n",
    "    fileName = driveName.replace(\":\\\\\",\"\")+\"_drive\"\n",
    "    finaldict = extractdata(driveName,\"\")\n",
    "    f = open(fileName+\".json\", \"w\")\n",
    "    f.write(json.dumps(finaldict))\n",
    "    f.close()"
   ]
  }
 ]
}