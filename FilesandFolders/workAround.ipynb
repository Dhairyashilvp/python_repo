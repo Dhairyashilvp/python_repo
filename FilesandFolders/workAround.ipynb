{
 "metadata": {
  "language_info": {
   "codemirror_mode": {
    "name": "ipython",
    "version": 3
   },
   "file_extension": ".py",
   "mimetype": "text/x-python",
   "name": "python",
   "nbconvert_exporter": "python",
   "pygments_lexer": "ipython3",
   "version": 3
  },
  "orig_nbformat": 2,
  "kernelspec": {
   "name": "python_defaultSpec_1596341802642",
   "display_name": "Python 3.7.4 64-bit"
  }
 },
 "nbformat": 4,
 "nbformat_minor": 2,
 "cells": [
  {
   "cell_type": "code",
   "execution_count": 38,
   "metadata": {},
   "outputs": [],
   "source": [
    "import os\n",
    "# import win32api\n",
    "# import json\n",
    "# import numpy as np"
   ]
  },
  {
   "cell_type": "code",
   "execution_count": 39,
   "metadata": {
    "tags": []
   },
   "outputs": [],
   "source": [
    "dirName = \"E:\\\\TestFolder\"\n",
    "def checkEmpty():\n",
    "    listOfEmptyDirs = []\n",
    "    for (dirpath, dirnames, filenames) in os.walk(dirName):\n",
    "        if len(dirnames) == 0 and len(filenames) == 0 :\n",
    "            listOfEmptyDirs.append(dirpath)\n",
    "    return listOfEmptyDirs"
   ]
  },
  {
   "cell_type": "code",
   "execution_count": 44,
   "metadata": {
    "tags": []
   },
   "outputs": [
    {
     "output_type": "stream",
     "name": "stdout",
     "text": "E:\\TestFolder\\New folder\\New folder\\New folder\\New folder\\New folder is Removed\nE:\\TestFolder\\New folder\\New folder\\New folder\\New folder\\New folder (2)\\New folder is Removed\nE:\\TestFolder\\New folder\\New folder\\New folder\\New folder\\New folder (2) is Removed\nE:\\TestFolder\\New folder\\New folder\\New folder\\New folder is Removed\nE:\\TestFolder\\New folder\\New folder\\New folder is Removed\nE:\\TestFolder\\New folder\\New folder is Removed\nE:\\TestFolder\\New folder is Removed\n"
    }
   ],
   "source": [
    "listOfEmptyDirs = checkEmpty()\n",
    "if len(listOfEmptyDirs) > 0:\n",
    "    print(listOfEmptyDirs)\n",
    "    decision = int(input(\"Please enter 1 to Delete all above empty folders::\"))\n",
    "    if decision == 1:\n",
    "        while True:\n",
    "            listOfEmptyDirs = checkEmpty()\n",
    "            if len(listOfEmptyDirs) > 0:\n",
    "                for dirtor in listOfEmptyDirs:\n",
    "                    os.rmdir(dirtor)\n",
    "                    print(dirtor,\"is Removed\")\n",
    "            else:\n",
    "                break\n",
    "    else:\n",
    "        print(\"No files are deleted :)\")"
   ]
  }
 ]
}