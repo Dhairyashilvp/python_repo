{
 "cells": [
  {
   "cell_type": "code",
   "execution_count": 21,
   "metadata": {},
   "outputs": [
    {
     "output_type": "stream",
     "name": "stdout",
     "text": "        *                 *         \n      * * *             * * *       \n    * * * * *         * * * * *     \n  * * * * * * *     * * * * * * *   \n* * * * * * * * * * * * * * * * * * \n"
    }
   ],
   "source": [
    "#p = \"*\"\n",
    "N\n",
    "l = 4\n",
    "a = 1\n",
    "for h in range(5):\n",
    "    for x in range(l):\n",
    "        print(\"  \",end='')\n",
    "    for y in range(a):    \n",
    "        print('* ',end='')\n",
    "    for z in range(l):   \n",
    "        print('  ',end='')\n",
    "    for p in range(l):   \n",
    "        print('  ',end='')\n",
    "    for q in range(a):   \n",
    "        print('* ',end='')\n",
    "    for r in range(l):   \n",
    "        print('  ',end='')\n",
    "    l = l-1\n",
    "    a = a+2\n",
    "    print()"
   ]
  },
  {
   "cell_type": "code",
   "execution_count": 1,
   "metadata": {},
   "outputs": [
    {
     "output_type": "stream",
     "name": "stdout",
     "text": "        *               *         \n      * * *           * * *       \n    * * * * *       * * * * *     \n  * * * * * * *   * * * * * * *   \n* * * * * * * * * * * * * * * * * \n"
    }
   ],
   "source": [
    "#p = \"*\"\n",
    "N = 5\n",
    "l = N-1\n",
    "a = 1\n",
    "for h in range(N):\n",
    "    for x in range(l):\n",
    "        print(\"  \",end='')\n",
    "    for y in range(a):    \n",
    "        print('* ',end='')\n",
    "    for p in range(l+l-1):   \n",
    "        print('  ',end='')\n",
    "    for q in range(a-1 if h == N-1 else a):   \n",
    "        print('* ',end='')\n",
    "    for r in range(l):\n",
    "        print('  ',end='')\n",
    "    l = l-1\n",
    "    a = a + 2\n",
    "    print()"
   ]
  },
  {
   "cell_type": "code",
   "execution_count": 5,
   "metadata": {},
   "outputs": [
    {
     "output_type": "stream",
     "name": "stdout",
     "text": "2 x 1 = 2\n2 x 2 = 4\n2 x 3 = 6\n2 x 4 = 8\n2 x 5 = 10\n2 x 6 = 12\n2 x 7 = 14\n2 x 8 = 16\n2 x 9 = 18\n2 x 10 = 20\n"
    }
   ],
   "source": [
    "n = input()\n",
    "for i in range(1,11):\n",
    "    print(n + \" x \" + str(i) + \" = \" + str(int(n)*i)) "
   ]
  },
  {
   "cell_type": "markdown",
   "metadata": {},
   "source": [
    "Download Speed Calculator"
   ]
  },
  {
   "cell_type": "code",
   "execution_count": 22,
   "metadata": {
    "tags": []
   },
   "outputs": [
    {
     "output_type": "stream",
     "name": "stdout",
     "text": "Download per minute: 12.66 Mb\nDownload per Hour: 759.38 Mb\nDownload per Day: 17.80 Gb\nDownload 1Gb in appox: 1 Hr. 20 Min. \n"
    }
   ],
   "source": [
    "speed,u = map(str,input(\"Imput Speed (Unit/Sec):\").split())\n",
    "if u == \"Mb\" or u == \"mb\" or u == \"MB\":\n",
    "    speed = float(speed) * 1024\n",
    "elif u == \"Gb\" or u == \"gb\" or u == \"GB\":\n",
    "    speed = float(speed) * (1024**2)\n",
    "else:\n",
    "    speed = float(speed)\n",
    "dpm = (speed * 60)/1024\n",
    "dph = dpm * 60\n",
    "dpd = dph * 24\n",
    "inmin = 0\n",
    "u1g = dpm * 1\n",
    "if(dpm > 1024):\n",
    "    dpm = dpm/1024\n",
    "    inmin = 0\n",
    "    u = \"Gb\"\n",
    "else:\n",
    "    u = \"Mb\"\n",
    "    inmin = 0\n",
    "    while True:\n",
    "        if u1g > 1024:\n",
    "            break\n",
    "        else:\n",
    "            inmin += 1\n",
    "            u1g += dpm\n",
    "            \n",
    "if(dph > 1024):\n",
    "    dph = dph/1024\n",
    "    u1 = \"Gb\"\n",
    "else:\n",
    "    u1 = \"Mb\"\n",
    "if(dpd > 1024):\n",
    "    dpd = dpd/1024\n",
    "    u2 = \"Gb\"\n",
    "else:\n",
    "    u2 = \"Mb\"\n",
    "if(inmin > 60):\n",
    "    mnt = inmin - (int(inmin/60) * 60) \n",
    "    inmin = str(int(inmin/60))+\" Hr. \"+str(mnt)+\" Min.\"\n",
    "    u3 = \"\"\n",
    "else:\n",
    "    u3 = \"Min.\"\n",
    "    \n",
    "print(\"Download per minute:\",\"%.2f\" % dpm,u)\n",
    "print(\"Download per Hour:\",\"%.2f\" % dph,u1)\n",
    "print(\"Download per Day:\",\"%.2f\" % dpd,u2)\n",
    "print(\"Download 1Gb in appox:\",inmin,u3)"
   ]
  }
 ],
 "metadata": {
  "language_info": {
   "codemirror_mode": {
    "name": "ipython",
    "version": 3
   },
   "file_extension": ".py",
   "mimetype": "text/x-python",
   "name": "python",
   "nbconvert_exporter": "python",
   "pygments_lexer": "ipython3",
   "version": "3.7.4-final"
  },
  "orig_nbformat": 2,
  "kernelspec": {
   "name": "python37464bit3418083905e742398ab8fae178929940",
   "display_name": "Python 3.7.4 64-bit"
  }
 },
 "nbformat": 4,
 "nbformat_minor": 2
}