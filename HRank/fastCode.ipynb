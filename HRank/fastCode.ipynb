{
 "cells": [
  {
   "cell_type": "code",
   "execution_count": null,
   "metadata": {},
   "outputs": [],
   "source": [
    "s = list(\"baab\") \n",
    "ret = \"\"\n",
    "for i in range(len(s)):\n",
    "    if i + 1 < len(s):\n",
    "        if s[i] == s[i+1]:\n",
    "            s[i] = ''\n",
    "            s[i+1] = ''\n",
    "for c in s:\n",
    "    ret += c\n",
    "if ret != \"\":\n",
    "    print(ret)\n",
    "\n",
    "    "
   ]
  },
  {
   "cell_type": "code",
   "execution_count": null,
   "metadata": {},
   "outputs": [],
   "source": [
    "# s = list(\"baab\")\n",
    "s = dict(\"gfqqiwjdllsutxlpskxlrgmnunpobgvuimnudvtisdilhzaafarzlyjypvdcsvbpxdtsslszevkiclshpzbeuegxdnofgpuneduo\")\n",
    "exp = \"gfiwjdsutxlpskxlrgmnunpobgvuimnudvtisdilhzfarzlyjypvdcsvbpxdtlszevkiclshpzbeuegxdnofgpuneduo\"\n",
    "print(s)\n",
    "i = 0\n",
    "ret = \"\"\n",
    "co = 0\n",
    "\"\"\" while True:\n",
    "    if i + 1 < len(s):\n",
    "        if s[i] == s[i+1]:\n",
    "            print(s[i])\n",
    "            s.remove([i+1])\n",
    "            s.remove([i])\n",
    "            i = 0\n",
    "            \n",
    "        else:\n",
    "            i += 1 \n",
    "            \n",
    "    else:\n",
    "        break\n",
    "for c in s:\n",
    "    ret += c\n",
    "print(ret)  \n",
    "print(exp)      \n",
    "print(co)  \"\"\""
   ]
  }
 ],
 "metadata": {
  "language_info": {
   "codemirror_mode": {
    "name": "ipython",
    "version": 3
   },
   "file_extension": ".py",
   "mimetype": "text/x-python",
   "name": "python",
   "nbconvert_exporter": "python",
   "pygments_lexer": "ipython3",
   "version": "3.7.4-final"
  },
  "orig_nbformat": 2,
  "kernelspec": {
   "name": "python3",
   "display_name": "Python 3"
  }
 },
 "nbformat": 4,
 "nbformat_minor": 2
}