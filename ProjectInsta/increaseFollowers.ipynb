{
 "cells": [
  {
   "cell_type": "code",
   "execution_count": 1,
   "metadata": {},
   "outputs": [],
   "source": [
    "from selenium import webdriver\n",
    "from selenium.webdriver.common.keys import Keys\n",
    "from time import sleep, strftime\n",
    "from random import randint\n",
    "import pandas as pd"
   ]
  },
  {
   "cell_type": "code",
   "execution_count": 2,
   "metadata": {},
   "outputs": [],
   "source": [
    "chromedriver_path = 'F:/Projrct/hobby/python_repo/ProjectInsta/chromedriver.exe' # Change this to your own chromedriver path!\n",
    "# webdriver = \n",
    "webdriver = webdriver.Chrome(executable_path=chromedriver_path)\n",
    "sleep(2)\n",
    "webdriver.get('https://www.instagram.com/accounts/login/?source=auth_switcher')\n",
    "sleep(3)\n",
    "\n",
    "username = webdriver.find_element_by_name('username')\n",
    "username.send_keys('me.talks')\n",
    "password = webdriver.find_element_by_name('password')\n",
    "password.send_keys('metalks')"
   ]
  },
  {
   "cell_type": "code",
   "execution_count": 3,
   "metadata": {},
   "outputs": [],
   "source": [
    "#Click login\n",
    "button_login = webdriver.find_element_by_css_selector('#react-root > section > main > div > article > div > div:nth-child(1) > div > form > div:nth-child(4) > button')\n",
    "button_login.click()\n",
    "sleep(3)"
   ]
  },
  {
   "cell_type": "code",
   "execution_count": 4,
   "metadata": {},
   "outputs": [],
   "source": [
    "#Click Not Now\n",
    "notnow = webdriver.find_element_by_css_selector('#react-root > section > main > div > div > div > div > button')\n",
    "notnow.click() #comment these last 2 lines out, if you don't get a pop up ask"
   ]
  },
  {
   "cell_type": "code",
   "execution_count": 5,
   "metadata": {},
   "outputs": [],
   "source": [
    "#notification not now\n",
    "notnow = webdriver.find_element_by_css_selector('body > div.RnEpo.Yx5HN > div > div > div > div.mt3GC > button.aOOlW.HoLwm')\n",
    "notnow.click() #comment these last 2 lines out, if you don't get a pop up ask"
   ]
  },
  {
   "cell_type": "code",
   "execution_count": 6,
   "metadata": {},
   "outputs": [],
   "source": [
    "hashtag_list = ['newtoinstagram','life', 'follow',]"
   ]
  },
  {
   "cell_type": "code",
   "execution_count": 7,
   "metadata": {},
   "outputs": [],
   "source": [
    "#- if it's the first time you run it, use this line and comment the two below\n",
    "prev_user_list = [] "
   ]
  },
  {
   "cell_type": "code",
   "execution_count": null,
   "metadata": {},
   "outputs": [],
   "source": [
    "prev_user_list = pd.read_csv('20201203_users_followed_list.csv', delimiter=',').iloc[:,1:2] # useful to build a user log\n",
    "prev_user_list = list(prev_user_list['0'])"
   ]
  },
  {
   "cell_type": "code",
   "execution_count": 9,
   "metadata": {
    "tags": []
   },
   "outputs": [
    {
     "output_type": "stream",
     "name": "stdout",
     "text": "here\nhere\nhere\n"
    }
   ],
   "source": [
    "new_followed = []\n",
    "tag = -1\n",
    "followed = 0\n",
    "likes = 0\n",
    "comments = 0\n",
    "\n",
    "for hashtag in hashtag_list:\n",
    "    tag += 1\n",
    "    webdriver.get('https://www.instagram.com/explore/tags/'+ hashtag_list[tag] + '/')\n",
    "    sleep(5)\n",
    "    first_thumbnail = webdriver.find_element_by_xpath('//*[@id=\"react-root\"]/section/main/article/div[1]/div/div/div[1]/div[1]/a/div')\n",
    "    \n",
    "    first_thumbnail.click()\n",
    "    sleep(randint(1,2))    \n",
    "    try:        \n",
    "        for x in range(1,200):\n",
    "            username = webdriver.find_element_by_xpath('/html/body/div[4]/div[2]/div/article/header/div[2]/div[1]/div[1]/div/a').text\n",
    "            \n",
    "            if username not in prev_user_list:\n",
    "                # If we already follow, do not unfollow\n",
    "                if webdriver.find_element_by_xpath('/html/body/div[4]/div[2]/div/article/header/div[2]/div[1]/div[2]/button').text == 'Follow':\n",
    "                    \n",
    "                    webdriver.find_element_by_xpath('/html/body/div[4]/div[2]/div/article/header/div[2]/div[1]/div[2]/button').click()\n",
    "                    \n",
    "                    new_followed.append(username)\n",
    "                    followed += 1\n",
    "\n",
    "                    # Liking the picture\n",
    "                    button_like = webdriver.find_element_by_xpath('/html/body/div[4]/div[2]/div/article/div[2]/section[1]/span[1]/button')\n",
    "                    \n",
    "                    button_like.click()\n",
    "                    likes += 1\n",
    "                    sleep(randint(18,25))\n",
    "\n",
    "                    # Comments and tracker\n",
    "                    comm_prob = randint(1,10)\n",
    "                    print('{}_{}: {}'.format(hashtag, x,comm_prob))\n",
    "                    if comm_prob > 7:\n",
    "                        comments += 1\n",
    "                        webdriver.find_element_by_xpath('/html/body/div[4]/div[2]/div/article/div[2]/section[1]/span[2]/button').click()\n",
    "                        comment_box = webdriver.find_element_by_xpath('/html/body/div[4]/div[2]/div/article/div[2]/section[3]/div/form/textarea')\n",
    "\n",
    "                        if (comm_prob < 7):\n",
    "                            comment_box.send_keys('Really cool!')\n",
    "                            sleep(1)\n",
    "                        elif (comm_prob > 6) and (comm_prob < 9):\n",
    "                            comment_box.send_keys('Nice work :)')\n",
    "                            sleep(1)\n",
    "                        elif comm_prob == 9:\n",
    "                            comment_box.send_keys('Nice gallery!!')\n",
    "                            sleep(1)\n",
    "                        elif comm_prob == 10:\n",
    "                            comment_box.send_keys('So cool! :)')\n",
    "                            sleep(1)\n",
    "                        # Enter to post comment\n",
    "                        comment_box.send_keys(Keys.ENTER)\n",
    "                        sleep(randint(22,28))\n",
    "\n",
    "                # Next picture\n",
    "                webdriver.find_element_by_link_text('Next').click()\n",
    "                sleep(randint(25,29))\n",
    "            else:\n",
    "                webdriver.find_element_by_link_text('Next').click()\n",
    "                sleep(randint(20,26))\n",
    "    # some hashtag stops refreshing photos (it may happen sometimes), it continues to the next\n",
    "    except:\n",
    "        print(\"Fail\")\n",
    "        continue\n",
    "\n",
    "for n in range(0,len(new_followed)):\n",
    "    prev_user_list.append(new_followed[n])\n",
    "    \n",
    "updated_user_df = pd.DataFrame(prev_user_list)\n",
    "updated_user_df.to_csv('{}_users_followed_list.csv'.format(strftime(\"%Y%m%d\")))"
   ]
  },
  {
   "cell_type": "code",
   "execution_count": null,
   "metadata": {},
   "outputs": [],
   "source": [
    "print('Liked {} photos.'.format(likes))\n",
    "print('Commented {} photos.'.format(comments))\n",
    "print('Followed {} new people.'.format(followed))"
   ]
  }
 ],
 "metadata": {
  "language_info": {
   "codemirror_mode": {
    "name": "ipython",
    "version": 3
   },
   "file_extension": ".py",
   "mimetype": "text/x-python",
   "name": "python",
   "nbconvert_exporter": "python",
   "pygments_lexer": "ipython3",
   "version": 3
  },
  "orig_nbformat": 2,
  "kernelspec": {
   "name": "python_defaultSpec_1593698918201",
   "display_name": "Python 3.7.4 64-bit"
  }
 },
 "nbformat": 4,
 "nbformat_minor": 2
}