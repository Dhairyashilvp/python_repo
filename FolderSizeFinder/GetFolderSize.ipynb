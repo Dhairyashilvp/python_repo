{
 "cells": [
  {
   "cell_type": "code",
   "execution_count": 1,
   "metadata": {},
   "outputs": [],
   "source": [
    "import os\n",
    "from tqdm import tqdm"
   ]
  },
  {
   "cell_type": "code",
   "execution_count": 5,
   "metadata": {},
   "outputs": [],
   "source": [
    "def get_folder_size(folder_path):\n",
    "    total_size = 0\n",
    "    for dirpath, _, filenames in os.walk(folder_path):\n",
    "        for filename in filenames:\n",
    "            file_path = os.path.join(dirpath, filename)\n",
    "            total_size += os.path.getsize(file_path)\n",
    "    return total_size"
   ]
  },
  {
   "cell_type": "code",
   "execution_count": 6,
   "metadata": {},
   "outputs": [],
   "source": [
    "def format_size(size):\n",
    "    for unit in ['B', 'KB', 'MB', 'GB']:\n",
    "        if size < 1024.0:\n",
    "            return f\"{size:.2f} {unit}\"\n",
    "        size /= 1024.0"
   ]
  },
  {
   "cell_type": "code",
   "execution_count": 4,
   "metadata": {},
   "outputs": [],
   "source": [
    "def list_folder_sizes(root_folder, output_file):\n",
    "    with open(output_file, 'w') as f:\n",
    "        for dirpath, dirnames, _ in os.walk(root_folder):\n",
    "            folder_size = get_folder_size(dirpath)\n",
    "            relative_path = os.path.relpath(dirpath, root_folder)\n",
    "            indent_level = relative_path.count(os.sep)\n",
    "            f.write(''.join(['-' for _ in range(indent_level)]))\n",
    "            f.write(f\"{os.path.basename(dirpath)}: {format_size(folder_size)}\\n\")\n",
    "            for dirname in dirnames:\n",
    "                subdir_path = os.path.join(dirpath, dirname)\n",
    "                subdir_size = get_folder_size(subdir_path)\n",
    "                sub_indent_level = relative_path.count(os.sep) + 1\n",
    "                f.write(''.join(['-' for _ in range(sub_indent_level)]))\n",
    "                f.write(f\"{os.path.basename(subdir_path)}: {format_size(subdir_size)}\\n\")"
   ]
  },
  {
   "cell_type": "code",
   "execution_count": 10,
   "metadata": {},
   "outputs": [],
   "source": [
    "def list_folder_sizes(root_folder, output_file):\n",
    "    num_dirs = sum(len(dirs) for _, dirs, _ in os.walk(root_folder))\n",
    "    with open(output_file, 'w') as f, tqdm(total=num_dirs, desc=\"Calculating folder sizes\") as pbar:\n",
    "        for dirpath, dirnames, _ in os.walk(root_folder):\n",
    "            folder_size = get_folder_size(dirpath)\n",
    "            relative_path = os.path.relpath(dirpath, root_folder)\n",
    "            indent_level = relative_path.count(os.sep)\n",
    "            f.write(''.join(['-' for _ in range(indent_level)]))\n",
    "            f.write(f\"{os.path.basename(dirpath)}: {format_size(folder_size)}\\n\")\n",
    "            pbar.update(1)\n",
    "            for dirname in dirnames:\n",
    "                subdir_path = os.path.join(dirpath, dirname)\n",
    "                subdir_size = get_folder_size(subdir_path)\n",
    "                sub_indent_level = relative_path.count(os.sep) + 1\n",
    "                f.write(''.join(['-' for _ in range(sub_indent_level)]))\n",
    "                f.write(f\"{os.path.basename(subdir_path)}: {format_size(subdir_size)}\\n\")\n",
    "                pbar.update(1)"
   ]
  },
  {
   "cell_type": "code",
   "execution_count": 8,
   "metadata": {},
   "outputs": [],
   "source": [
    "root_folder = r\"C:\\\\\"\n",
    "output_file = \"C:\\\\Users\\\\Dhairyashil\\\\OneDrive\\\\Documents\\\\Folder_sizes.txt\""
   ]
  },
  {
   "cell_type": "code",
   "execution_count": 11,
   "metadata": {},
   "outputs": [
    {
     "name": "stderr",
     "output_type": "stream",
     "text": [
      "Calculating folder sizes: 348522it [06:50, 848.51it/s]                             "
     ]
    },
    {
     "name": "stdout",
     "output_type": "stream",
     "text": [
      "Folder sizes written to C:\\Users\\Dhairyashil\\OneDrive\\Documents\\Folder_sizes.txt\n"
     ]
    },
    {
     "name": "stderr",
     "output_type": "stream",
     "text": [
      "\n"
     ]
    }
   ],
   "source": [
    "list_folder_sizes(root_folder, output_file)\n",
    "print(\"Folder sizes written to\", output_file)"
   ]
  }
 ],
 "metadata": {
  "kernelspec": {
   "display_name": "Python 3",
   "language": "python",
   "name": "python3"
  },
  "language_info": {
   "codemirror_mode": {
    "name": "ipython",
    "version": 3
   },
   "file_extension": ".py",
   "mimetype": "text/x-python",
   "name": "python",
   "nbconvert_exporter": "python",
   "pygments_lexer": "ipython3",
   "version": "3.12.2"
  }
 },
 "nbformat": 4,
 "nbformat_minor": 2
}
