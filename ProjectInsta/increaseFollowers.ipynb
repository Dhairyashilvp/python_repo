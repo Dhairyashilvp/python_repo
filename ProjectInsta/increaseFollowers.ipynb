{
 "cells": [
  {
   "cell_type": "code",
   "execution_count": null,
   "metadata": {},
   "outputs": [],
   "source": [
    "from selenium import webdriver\n",
    "from selenium.webdriver.common.keys import Keys\n",
    "from time import sleep, strftime\n",
    "from random import randint, choice\n",
    "import pandas as pd"
   ]
  },
  {
   "cell_type": "code",
   "execution_count": null,
   "metadata": {},
   "outputs": [],
   "source": [
    "chromedriver_path = 'F:/Projrct/hobby/python_repo/ProjectInsta/chromedriver.exe' # Change this to your own chromedriver path!\n",
    "# webdriver = \n",
    "webdriver = webdriver.Chrome(executable_path=chromedriver_path)\n",
    "sleep(2)\n",
    "webdriver.get('https://www.instagram.com/accounts/login/?source=auth_switcher')\n",
    "sleep(3)\n",
    "\n",
    "username = webdriver.find_element_by_name('username')\n",
    "username.send_keys('me.talks')\n",
    "password = webdriver.find_element_by_name('password')\n",
    "password.send_keys('metalkstomuch')"
   ]
  },
  {
   "cell_type": "code",
   "execution_count": null,
   "metadata": {},
   "outputs": [],
   "source": [
    "#Click login\n",
    "button_login = webdriver.find_element_by_css_selector('#react-root > section > main > div > article > div > div:nth-child(1) > div > form > div:nth-child(4) > button')\n",
    "button_login.click()\n",
    "sleep(3)"
   ]
  },
  {
   "cell_type": "code",
   "execution_count": null,
   "metadata": {},
   "outputs": [],
   "source": [
    "#Click Not Now\n",
    "notnow = webdriver.find_element_by_css_selector('#react-root > section > main > div > div > div > div > button')\n",
    "notnow.click() #comment these last 2 lines out, if you don't get a pop up ask"
   ]
  },
  {
   "cell_type": "code",
   "execution_count": null,
   "metadata": {},
   "outputs": [],
   "source": [
    "#notification not now\n",
    "notnow = webdriver.find_element_by_css_selector('body > div.RnEpo.Yx5HN > div > div > div > div.mt3GC > button.aOOlW.HoLwm')\n",
    "notnow.click() #comment these last 2 lines out, if you don't get a pop up ask"
   ]
  },
  {
   "cell_type": "code",
   "execution_count": null,
   "metadata": {},
   "outputs": [],
   "source": [
    "# hashtag_list = ['newtoinstagram','life', 'follow', 'follow4follow','instalike', 'f4f', 'ootd','photooftheday', 'travel', 'cute', 'night', 'friends', 'sunset','happiness', 'apni_duniya', 'sunset','mast',]\n",
    "hashtag_list = ['goodvibes', 'sunset', 'superhero', ]"
   ]
  },
  {
   "cell_type": "code",
   "execution_count": null,
   "metadata": {},
   "outputs": [],
   "source": [
    "Comment_list = ['Oh Mah Gosh!!', 'This Pic is awesome', 'Great', 'Your Galary is amazing.' , 'So cool! :)', 'Nice gallery!!', 'Nice :)', 'Really cool!', 'Awesome',]"
   ]
  },
  {
   "cell_type": "code",
   "execution_count": null,
   "metadata": {},
   "outputs": [],
   "source": [
    "# if it's the first time you run it, use this line and comment the two below\n",
    "prev_user_list = [] "
   ]
  },
  {
   "cell_type": "code",
   "execution_count": null,
   "metadata": {},
   "outputs": [],
   "source": [
    "# If running on the same day. It will use the user list to check and skip to like and follow\n",
    "prev_user_list = pd.read_csv('{}_users_followed_list.csv'.format(strftime(\"%Y%m%d\")), delimiter=',').iloc[:,1:2] # useful to build a user log\n",
    "prev_user_list = list(prev_user_list['0'])"
   ]
  },
  {
   "cell_type": "code",
   "execution_count": null,
   "metadata": {
    "tags": []
   },
   "outputs": [],
   "source": [
    "new_followed = []\n",
    "tag = -1\n",
    "followed = 0\n",
    "likes = 0\n",
    "comments = 0\n",
    "f = 0\n",
    "fail_Ip = 0\n",
    "\n",
    "for hashtag in hashtag_list:\n",
    "    f = 0\n",
    "    tag += 1\n",
    "    webdriver.get('https://www.instagram.com/explore/tags/'+ hashtag_list[tag] + '/')\n",
    "    sleep(5)\n",
    "    first_thumbnail = webdriver.find_element_by_xpath('//*[@id=\"react-root\"]/section/main/article/div[1]/div/div/div[1]/div[1]/a/div')\n",
    "    \n",
    "    first_thumbnail.click()\n",
    "    sleep(randint(1,2))    \n",
    "    try:        \n",
    "        for x in range(1,200):\n",
    "            try:\n",
    "                username = webdriver.find_element_by_xpath('/html/body/div[4]/div[2]/div/article/div/header/div[2]/div[1]/div[1]/span/a').text\n",
    "                if username not in prev_user_list:\n",
    "                    # If we already follow, do not unfollow\n",
    "                    if webdriver.find_element_by_xpath('/html/body/div[4]/div[2]/div/article/div/header/div[2]/div[1]/div[2]/button').text == 'Follow':\n",
    "                        webdriver.find_element_by_xpath('/html/body/div[4]/div[2]/div/article/div/header/div[2]/div[1]/div[2]/button').click()\n",
    "                        new_followed.append(username)\n",
    "                        followed += 1\n",
    "                        # Liking the picture\n",
    "                        button_like = webdriver.find_element_by_xpath('/html/body/div[4]/div[2]/div/article/div/div[3]/section[1]/span[1]/button')\n",
    "                        button_like.click()\n",
    "                        likes += 1\n",
    "                        sleep(randint(18,25))\n",
    "                        # Comments and tracker\n",
    "                        comm_prob = randint(1,10)\n",
    "                        print('{}_{}: {}'.format(hashtag, x,comm_prob))\n",
    "                        if comm_prob > 8:\n",
    "                            comments += 1\n",
    "                            webdriver.find_element_by_xpath('/html/body/div[4]/div[2]/div/article/div/div[3]/section[1]/span[2]/button').click()\n",
    "                            comment_box = webdriver.find_element_by_xpath('/html/body/div[4]/div[2]/div/article/div/div[3]/section[3]/div/form/textarea')\n",
    "\n",
    "                            comment_box.send_keys(choice(Comment_list))\n",
    "                            sleep(1)\n",
    "                            # Enter to post comment\n",
    "                            comment_box.send_keys(Keys.ENTER)\n",
    "                            sleep(randint(22,28))\n",
    "                    # Next picture\n",
    "                    webdriver.find_element_by_link_text('Next').click()\n",
    "                    sleep(randint(25,29))\n",
    "                else:\n",
    "                    webdriver.find_element_by_link_text('Next').click()\n",
    "                    sleep(randint(20,26))    \n",
    "            except:\n",
    "                if f < 10:\n",
    "                    print(\"Failed:\",f)\n",
    "                    f += 1\n",
    "                    webdriver.find_element_by_link_text('Next').click()\n",
    "                    sleep(randint(25,29))\n",
    "                    continue\n",
    "                else:\n",
    "                    fail_Ip = int(input(\"Continue?(1/0):\"))\n",
    "                    if fail_Ip == 1:\n",
    "                        print(\"User Continued\")\n",
    "                        f = 0\n",
    "                        continue\n",
    "                    else:\n",
    "                        print(\"Finaly Failed\")\n",
    "                        break\n",
    "            \n",
    "    # some hashtag stops refreshing photos (it may happen sometimes), it continues to the next\n",
    "    except:\n",
    "        print(\"next Tag\")\n",
    "        continue\n",
    "\n",
    "for n in range(0,len(new_followed)):\n",
    "    prev_user_list.append(new_followed[n])\n",
    "    \n",
    "updated_user_df = pd.DataFrame(prev_user_list)\n",
    "updated_user_df.to_csv('{}_users_followed_list.csv'.format(strftime(\"%Y%m%d\")))"
   ]
  },
  {
   "cell_type": "code",
   "execution_count": null,
   "metadata": {},
   "outputs": [],
   "source": [
    "for n in range(0,len(new_followed)):\n",
    "    prev_user_list.append(new_followed[n])\n",
    "    \n",
    "updated_user_df = pd.DataFrame(prev_user_list)\n",
    "updated_user_df.to_csv('{}_users_followed_list.csv'.format(strftime(\"%Y%m%d\")))"
   ]
  },
  {
   "cell_type": "code",
   "execution_count": null,
   "metadata": {
    "tags": []
   },
   "outputs": [],
   "source": [
    "print('Liked {} photos.'.format(likes))\n",
    "print('Commented {} photos.'.format(comments))\n",
    "print('Followed {} new people.'.format(followed))"
   ]
  }
 ],
 "metadata": {
  "language_info": {
   "codemirror_mode": {
    "name": "ipython",
    "version": 3
   },
   "file_extension": ".py",
   "mimetype": "text/x-python",
   "name": "python",
   "nbconvert_exporter": "python",
   "pygments_lexer": "ipython3",
   "version": 3
  },
  "orig_nbformat": 2,
  "kernelspec": {
   "name": "python_defaultSpec_1596152555411",
   "display_name": "Python 3.7.4 64-bit"
  }
 },
 "nbformat": 4,
 "nbformat_minor": 2
}