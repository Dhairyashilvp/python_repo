{
 "metadata": {
  "language_info": {
   "codemirror_mode": {
    "name": "ipython",
    "version": 3
   },
   "file_extension": ".py",
   "mimetype": "text/x-python",
   "name": "python",
   "nbconvert_exporter": "python",
   "pygments_lexer": "ipython3",
   "version": "3.7.4-final"
  },
  "orig_nbformat": 2,
  "kernelspec": {
   "name": "Python 3.7.4 64-bit",
   "display_name": "Python 3.7.4 64-bit",
   "metadata": {
    "interpreter": {
     "hash": "0600588c3b5f4418cbe7b5ebc6825b479f3bc010269d8b60d75058cdd010adfe"
    }
   }
  }
 },
 "nbformat": 4,
 "nbformat_minor": 2,
 "cells": [
  {
   "cell_type": "code",
   "execution_count": null,
   "metadata": {},
   "outputs": [],
   "source": [
    "import pafy "
   ]
  },
  {
   "cell_type": "code",
   "execution_count": null,
   "metadata": {},
   "outputs": [],
   "source": [
    "# insert URL\n",
    "url = input()\n",
    "url = \"https://www.youtube.com/watch?v=eACohWVwTOc\" if url == \"\" else url\n",
    "video = pafy.new(url) "
   ]
  },
  {
   "cell_type": "code",
   "execution_count": 22,
   "metadata": {},
   "outputs": [
    {
     "output_type": "stream",
     "name": "stdout",
     "text": [
      "Title    :  The Chainsmokers - Sick Boy (Official Video)\nrating   :  4.867239\nviewcount:  285632016\nauthor   :  ChainsmokersVEVO 218\nduration :  00:03:38\n"
     ]
    }
   ],
   "source": [
    "# print title \n",
    "print( \"Title    : \",video.title)   \n",
    "# print rating \n",
    "print( \"rating   : \", video.rating)   \n",
    "# print  view count \n",
    "print( \"viewcount: \", video.viewcount)   \n",
    "# print   author & video length \n",
    "print( \"author   : \", video.author, video.length)   \n",
    "# print    likesation, likes, dislikes & description \n",
    "print( \"duration : \", video.duration) \n",
    "# print( \"likes    : \", video.likes) \n",
    "# print( \"dislikes : \", video.dislikes) \n",
    "# print(video.description) "
   ]
  },
  {
   "cell_type": "code",
   "execution_count": null,
   "metadata": {},
   "outputs": [],
   "source": [
    "# Download specific Audio Format\n",
    "itr = 1\n",
    "itrLst = []\n",
    "select = 0\n",
    "def ip():\n",
    "    select = int(input())\n",
    "audiostreams = video.audiostreams \n",
    "for i in audiostreams: \n",
    "    itrLst.append(itr)\n",
    "    print(\"insert \" + str(itr) + \" For: \",i.bitrate, i.extension, i.get_filesize()) \n",
    "    itr += 1\n",
    "try:\n",
    "    ip()\n",
    "    audiostreams[select].download() \n",
    "except:\n",
    "    print(\"Please insert valid input\")\n",
    "    ip()"
   ]
  },
  {
   "cell_type": "code",
   "execution_count": 26,
   "metadata": {},
   "outputs": [
    {
     "output_type": "stream",
     "name": "stdout",
     "text": [
      "160k\n"
     ]
    },
    {
     "output_type": "error",
     "ename": "AttributeError",
     "evalue": "'YtdlStream' object has no attribute 'author'",
     "traceback": [
      "\u001b[1;31m---------------------------------------------------------------------------\u001b[0m",
      "\u001b[1;31mAttributeError\u001b[0m                            Traceback (most recent call last)",
      "\u001b[1;32m<ipython-input-26-073d5b79729d>\u001b[0m in \u001b[0;36m<module>\u001b[1;34m\u001b[0m\n\u001b[0;32m      2\u001b[0m \u001b[0mbestaudio\u001b[0m \u001b[1;33m=\u001b[0m \u001b[0mvideo\u001b[0m\u001b[1;33m.\u001b[0m\u001b[0mgetbestaudio\u001b[0m\u001b[1;33m(\u001b[0m\u001b[1;33m)\u001b[0m\u001b[1;33m\u001b[0m\u001b[1;33m\u001b[0m\u001b[0m\n\u001b[0;32m      3\u001b[0m \u001b[0mprint\u001b[0m\u001b[1;33m(\u001b[0m\u001b[0mbestaudio\u001b[0m\u001b[1;33m.\u001b[0m\u001b[0mbitrate\u001b[0m\u001b[1;33m)\u001b[0m\u001b[1;33m\u001b[0m\u001b[1;33m\u001b[0m\u001b[0m\n\u001b[1;32m----> 4\u001b[1;33m \u001b[0mprint\u001b[0m\u001b[1;33m(\u001b[0m\u001b[0mbestaudio\u001b[0m\u001b[1;33m.\u001b[0m\u001b[0mauthor\u001b[0m\u001b[1;33m)\u001b[0m\u001b[1;33m\u001b[0m\u001b[1;33m\u001b[0m\u001b[0m\n\u001b[0m\u001b[0;32m      5\u001b[0m \u001b[1;31m# bestaudio.download()\u001b[0m\u001b[1;33m\u001b[0m\u001b[1;33m\u001b[0m\u001b[1;33m\u001b[0m\u001b[0m\n",
      "\u001b[1;31mAttributeError\u001b[0m: 'YtdlStream' object has no attribute 'author'"
     ]
    }
   ],
   "source": [
    "#download best Audio\n",
    "bestaudio = video.getbestaudio() \n",
    "print(bestaudio.bitrate)\n",
    "# bestaudio.download() "
   ]
  },
  {
   "cell_type": "code",
   "execution_count": 32,
   "metadata": {},
   "outputs": [
    {
     "output_type": "stream",
     "name": "stdout",
     "text": [
      "\n",
      "\n",
      "\n",
      "\n",
      "\n",
      "\n",
      "\n",
      "\n",
      "\n",
      "\n",
      "\n",
      "\n",
      "\n",
      "\n",
      "\n",
      "\n",
      "\n",
      "\n",
      "\n",
      "\n"
     ]
    },
    {
     "output_type": "execute_result",
     "data": {
      "text/plain": [
       "defaultdict(list,\n",
       "            {0: [{'title': 'Ava Max - Kings & Queens [Official Music Video]',\n",
       "               'bitRate': 'Ava Max - Kings & Queens [Official Music Video]'}],\n",
       "             1: [{'title': 'Ava Max - Kings & Queens [Official Music Video]',\n",
       "               'bitRate': 'Ava Max - Kings & Queens [Official Music Video]'}],\n",
       "             2: [{'title': 'Ava Max - Kings & Queens [Official Music Video]',\n",
       "               'bitRate': 'Ava Max - Kings & Queens [Official Music Video]'}],\n",
       "             3: [{'title': 'Ava Max - Kings & Queens [Official Music Video]',\n",
       "               'bitRate': 'Ava Max - Kings & Queens [Official Music Video]'}],\n",
       "             4: [{'title': 'Ava Max - Kings & Queens [Official Music Video]',\n",
       "               'bitRate': 'Ava Max - Kings & Queens [Official Music Video]'}],\n",
       "             5: [{'title': 'Ava Max - Kings & Queens [Official Music Video]',\n",
       "               'bitRate': 'Ava Max - Kings & Queens [Official Music Video]'}],\n",
       "             6: [{'title': 'Ava Max - Kings & Queens [Official Music Video]',\n",
       "               'bitRate': 'Ava Max - Kings & Queens [Official Music Video]'}],\n",
       "             7: [{'title': 'Ava Max - Kings & Queens [Official Music Video]',\n",
       "               'bitRate': 'Ava Max - Kings & Queens [Official Music Video]'}],\n",
       "             8: [{'title': 'Ava Max - Kings & Queens [Official Music Video]',\n",
       "               'bitRate': 'Ava Max - Kings & Queens [Official Music Video]'}],\n",
       "             9: [{'title': 'Ava Max - Kings & Queens [Official Music Video]',\n",
       "               'bitRate': 'Ava Max - Kings & Queens [Official Music Video]'}],\n",
       "             10: [{'title': 'Ava Max - Kings & Queens [Official Music Video]',\n",
       "               'bitRate': 'Ava Max - Kings & Queens [Official Music Video]'}],\n",
       "             11: [{'title': 'Ava Max - Kings & Queens [Official Music Video]',\n",
       "               'bitRate': 'Ava Max - Kings & Queens [Official Music Video]'}],\n",
       "             12: [{'title': 'Ava Max - Kings & Queens [Official Music Video]',\n",
       "               'bitRate': 'Ava Max - Kings & Queens [Official Music Video]'}],\n",
       "             13: [{'title': 'Ava Max - Kings & Queens [Official Music Video]',\n",
       "               'bitRate': 'Ava Max - Kings & Queens [Official Music Video]'}],\n",
       "             14: [{'title': 'Ava Max - Kings & Queens [Official Music Video]',\n",
       "               'bitRate': 'Ava Max - Kings & Queens [Official Music Video]'}],\n",
       "             15: [{'title': 'Ava Max - Kings & Queens [Official Music Video]',\n",
       "               'bitRate': 'Ava Max - Kings & Queens [Official Music Video]'}],\n",
       "             16: [{'title': 'Ava Max - Kings & Queens [Official Music Video]',\n",
       "               'bitRate': 'Ava Max - Kings & Queens [Official Music Video]'}],\n",
       "             17: [{'title': 'Ava Max - Kings & Queens [Official Music Video]',\n",
       "               'bitRate': 'Ava Max - Kings & Queens [Official Music Video]'}],\n",
       "             18: [{'title': 'Ava Max - Kings & Queens [Official Music Video]',\n",
       "               'bitRate': 'Ava Max - Kings & Queens [Official Music Video]'}],\n",
       "             19: [{'title': 'Ava Max - Kings & Queens [Official Music Video]',\n",
       "               'bitRate': 'Ava Max - Kings & Queens [Official Music Video]'}]})"
      ]
     },
     "metadata": {},
     "execution_count": 32
    }
   ],
   "source": [
    "#get multipe videos\n",
    "from collections import defaultdict\n",
    "d = defaultdict(list)\n",
    "urlList = ['https://www.youtube.com/watch?v=JwO2RbDpMzk&list=PLu57YNLRwh4WEp5tHnWpYgWDFBw4ZZ60d&t=0s', 'https://www.youtube.com/watch?v=vZ_NpLWuL00&list=PLu57YNLRwh4WEp5tHnWpYgWDFBw4ZZ60d&t=0s', 'https://www.youtube.com/watch?v=6BYIKEH0RCQ&list=PLu57YNLRwh4WEp5tHnWpYgWDFBw4ZZ60d&t=0s', 'https://www.youtube.com/watch?v=-eFqg8JnohY&list=PLu57YNLRwh4WEp5tHnWpYgWDFBw4ZZ60d&t=0s', 'https://www.youtube.com/watch?v=zneEjAenV8Y&list=PLu57YNLRwh4WEp5tHnWpYgWDFBw4ZZ60d&t=0s', 'https://www.youtube.com/watch?v=hMBKmQEPNzI&list=PLu57YNLRwh4WEp5tHnWpYgWDFBw4ZZ60d&t=0s', 'https://www.youtube.com/watch?v=53H2E__xNbI&list=PLu57YNLRwh4WEp5tHnWpYgWDFBw4ZZ60d&t=0s', 'https://www.youtube.com/watch?v=zzwRbKI2pn4&list=PLu57YNLRwh4WEp5tHnWpYgWDFBw4ZZ60d&t=0s', 'https://www.youtube.com/watch?v=XgyB-SI3TOY&list=PLu57YNLRwh4WEp5tHnWpYgWDFBw4ZZ60d&t=0s', 'https://www.youtube.com/watch?v=ATf05n5LBHQ&list=PLu57YNLRwh4WEp5tHnWpYgWDFBw4ZZ60d&t=0s', 'https://www.youtube.com/watch?v=_kUrW9SEaJc&list=PLu57YNLRwh4WEp5tHnWpYgWDFBw4ZZ60d&t=0s', 'https://www.youtube.com/watch?v=HELDauyokPE&list=PLu57YNLRwh4WEp5tHnWpYgWDFBw4ZZ60d&t=0s', 'https://www.youtube.com/watch?v=zaCbuB3w0kg&list=PLu57YNLRwh4WEp5tHnWpYgWDFBw4ZZ60d&t=0s', 'https://www.youtube.com/watch?v=v2-9rIL_f4w&list=PLu57YNLRwh4WEp5tHnWpYgWDFBw4ZZ60d&t=0s', 'https://www.youtube.com/watch?v=l12_JIQ2TqA&list=PLu57YNLRwh4WEp5tHnWpYgWDFBw4ZZ60d&t=0s', 'https://www.youtube.com/watch?v=QYh6mYIJG2Y&list=PLu57YNLRwh4WEp5tHnWpYgWDFBw4ZZ60d&t=0s', 'https://www.youtube.com/watch?v=q0hyYWKXF0Q&list=PLu57YNLRwh4WEp5tHnWpYgWDFBw4ZZ60d&t=0s', 'https://www.youtube.com/watch?v=YykjpeuMNEk&list=PLu57YNLRwh4WEp5tHnWpYgWDFBw4ZZ60d&t=0s', 'https://www.youtube.com/watch?v=dW2MmuA1nI4&list=PLu57YNLRwh4WEp5tHnWpYgWDFBw4ZZ60d&t=0s', 'https://www.youtube.com/watch?v=jH1RNk8954Q&list=PLu57YNLRwh4WEp5tHnWpYgWDFBw4ZZ60d&t=0s']\n",
    "d1 = {\"title\":\"\",\"bitRate\":\"\"}\n",
    "itr = 0\n",
    "for url in urlList:\n",
    "    video = pafy.new(url) \n",
    "    bestaudio = video.getbestaudio() \n",
    "    d1['title'] = bestaudio.title \n",
    "    d1['bitRate'] = bestaudio.title \n",
    "    d[itr].append(d1)\n",
    "    itr += 1\n",
    "    bestaudio.download()\n",
    "d"
   ]
  }
 ]
}