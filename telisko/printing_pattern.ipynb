{
 "nbformat": 4,
 "nbformat_minor": 2,
 "metadata": {
  "language_info": {
   "name": "python",
   "codemirror_mode": {
    "name": "ipython",
    "version": 3
   },
   "version": "3.7.4-final"
  },
  "orig_nbformat": 2,
  "file_extension": ".py",
  "mimetype": "text/x-python",
  "name": "python",
  "npconvert_exporter": "python",
  "pygments_lexer": "ipython3",
  "version": 3,
  "kernelspec": {
   "name": "python37464bit3418083905e742398ab8fae178929940",
   "display_name": "Python 3.7.4 64-bit"
  }
 },
 "cells": [
  {
   "cell_type": "code",
   "execution_count": 17,
   "metadata": {},
   "outputs": [
    {
     "output_type": "stream",
     "name": "stdout",
     "text": "1234\n234\n34\n4\n"
    }
   ],
   "source": [
    "for i in range(1,5):\n",
    "    for j in range(i,5):\n",
    "        print(j,end=\"\")\n",
    "    print()\n",
    "    "
   ]
  },
  {
   "cell_type": "code",
   "execution_count": 21,
   "metadata": {},
   "outputs": [
    {
     "output_type": "execute_result",
     "data": {
      "text/plain": "24.5"
     },
     "metadata": {},
     "execution_count": 21
    }
   ],
   "source": [
    "(77-28 )/2"
   ]
  },
  {
   "cell_type": "code",
   "execution_count": 44,
   "metadata": {},
   "outputs": [
    {
     "output_type": "stream",
     "name": "stdout",
     "text": "['5', '8']\n['6', '3']\n5+3=8\nyes\n"
    }
   ],
   "source": [
    "T = int(input())\n",
    "\n",
    "while T > 0 :\n",
    "    c = 0\n",
    "    d = []\n",
    "    f = []\n",
    "    flag = 0\n",
    "    ip = input()\n",
    "    N,S = ip.split()\n",
    "    mm = 100 - S\n",
    "    \n",
    "    ip1 = input()\n",
    "    n1 = ip1.split()\n",
    "\n",
    "    ip2 = input()\n",
    "    n2 = ip2.split()\n",
    "\n",
    "    for v in n2:\n",
    "        if int(v) == 0:\n",
    "            d.append(n1[c])\n",
    "            c += 1\n",
    "        elif int(v) == 1:\n",
    "            f.append(n1[c])\n",
    "            c += 1\n",
    "        else:\n",
    "            pass\n",
    "    for value in d:\n",
    "        for val in f:\n",
    "            if int(value) + int(val) <= mm:\n",
    "                print(value + \"+\" + val + \"=\" + str(int(value) + int(val)))\n",
    "                flag = 1\n",
    "                break\n",
    "            else:\n",
    "                pass\n",
    "    if flag == 1:\n",
    "        print(\"yes\")\n",
    "    else:\n",
    "        print(\"no\")\n",
    "    T -= 1"
   ]
  },
  {
   "cell_type": "code",
   "execution_count": null,
   "metadata": {},
   "outputs": [],
   "source": []
  },
  {
   "cell_type": "code",
   "execution_count": 62,
   "metadata": {},
   "outputs": [
    {
     "output_type": "stream",
     "name": "stdout",
     "text": "['8', '9', '6', '5']\nthis: ['6', '5', '8', '9']\n1\nyes\n"
    }
   ],
   "source": [
    "def check(n1,N):\n",
    "    for i in range(N):\n",
    "        # print((i + 1) + K)\n",
    "        if ((i + 1) + K) > N:\n",
    "            pass\n",
    "            # print(\"greater\")\n",
    "        else:        \n",
    "            if n1[i] >  n1[i+K]:\n",
    "                a = n1[i+K]\n",
    "                n1[i+K] = n1[i]\n",
    "                n1[i] = a\n",
    "            else:\n",
    "                pass\n",
    "    print(\"this: \",end=\"\")\n",
    "    print(n1)\n",
    "    checkSort = n1\n",
    "    checkSort.sort()\n",
    "    if checkSort == n1:\n",
    "        return 1\n",
    "    else:\n",
    "        return n1\n",
    "\n",
    "T = int(input())\n",
    "\n",
    "while T > 0 :\n",
    "    flag = 0\n",
    "    ip = input()\n",
    "    A,B = ip.split()\n",
    "    N = int(A)\n",
    "    K = int(B)\n",
    "\n",
    "    ip = input()\n",
    "    n1 = ip.split()\n",
    "    print(n1)\n",
    "    for i in range(N):\n",
    "        re =  check(n1,N)\n",
    "        print(re)\n",
    "        if re == 1:\n",
    "            flag = 1\n",
    "            break\n",
    "        else:\n",
    "            check(re,N)\n",
    "    if flag == 1:\n",
    "        print(\"yes\")\n",
    "    else:\n",
    "        print(\"no\")\n",
    "    T -= 1"
   ]
  },
  {
   "cell_type": "code",
   "execution_count": null,
   "metadata": {},
   "outputs": [],
   "source": [
    "t=int(input())\n",
    "for i in range(t):\n",
    "    n,k=map(int,input().split())\n",
    "    l=list(map(int,input().split()))\n",
    "    if k==1:\n",
    "        print('yes')\n",
    "    else:\n",
    "        ch=0\n",
    "        for i in range(n):\n",
    "            if abs((l[i]-1)-i)%k!=0:\n",
    "                print('no')\n",
    "                ch=1\n",
    "                break\n",
    "                \n",
    "        if ch==0:\n",
    "            print('yes')"
   ]
  }
 ]
}