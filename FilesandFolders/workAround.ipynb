{
 "metadata": {
  "language_info": {
   "codemirror_mode": {
    "name": "ipython",
    "version": 3
   },
   "file_extension": ".py",
   "mimetype": "text/x-python",
   "name": "python",
   "nbconvert_exporter": "python",
   "pygments_lexer": "ipython3",
   "version": 3
  },
  "orig_nbformat": 2,
  "kernelspec": {
   "name": "python_defaultSpec_1596341802642",
   "display_name": "Python 3.7.4 64-bit"
  }
 },
 "nbformat": 4,
 "nbformat_minor": 2,
 "cells": [
  {
   "cell_type": "code",
   "execution_count": null,
   "metadata": {},
   "outputs": [],
   "source": [
    "import os\n",
    "import win32api\n",
    "import numpy as np\n",
    "# import json"
   ]
  },
  {
   "cell_type": "code",
   "execution_count": null,
   "metadata": {
    "tags": []
   },
   "outputs": [],
   "source": [
    "i = 1\n",
    "listOfEmptyDirs = checkEmpty()\n",
    "msg = \"Folllowing drives are available to process:\"\n",
    "drives = win32api.GetLogicalDriveStrings()\n",
    "dirName = np.array(drives.split('\\000')[:-1])\n",
    "for eachd in dirName:\n",
    "    msg = msg + \" Enter \"+ str(i) +\" for \" + eachd\n",
    "    i += 1\n",
    "selecteddir = int(input(msg))\n",
    "selecteddir = str(dirName[selecteddir - 1])\n",
    "print(selecteddir)\n",
    "def checkEmpty():\n",
    "    listOfEmptyDirs = []\n",
    "    for (dirpath, dirnames, filenames) in os.walk(selecteddir):\n",
    "        if len(dirnames) == 0 and len(filenames) == 0 :\n",
    "            listOfEmptyDirs.append(dirpath)\n",
    "    return listOfEmptyDirs"
   ]
  },
  {
   "cell_type": "code",
   "execution_count": null,
   "metadata": {
    "tags": []
   },
   "outputs": [],
   "source": [
    "\n",
    "if len(listOfEmptyDirs) > 0:\n",
    "    print(listOfEmptyDirs)\n",
    "    decision = int(input(\"Please enter 1 to Delete all above empty folders::\"))\n",
    "    if decision == 1:\n",
    "        while True:\n",
    "            listOfEmptyDirs = checkEmpty()\n",
    "            if len(listOfEmptyDirs) > 0:\n",
    "                for dirtor in listOfEmptyDirs:\n",
    "                    os.rmdir(dirtor)\n",
    "                    print(dirtor,\"is Removed\")\n",
    "            else:\n",
    "                break\n",
    "    else:\n",
    "        print(\"No files are deleted :)\")\n",
    "else:\n",
    "    print(\"Congrulations you have no Empty Dirctories in \"+selecteddir+\". _/\\\\_\")"
   ]
  }
 ]
}