{
 "cells": [
  {
   "cell_type": "code",
   "execution_count": 1,
   "metadata": {},
   "outputs": [
    {
     "name": "stderr",
     "output_type": "stream",
     "text": [
      "Processing: 100%|██████████| 168549/168549 [00:00<00:00, 269368.49it/s]\n"
     ]
    },
    {
     "name": "stdout",
     "output_type": "stream",
     "text": [
      "Excel file 'C:\\Users\\Dhairyashil\\OneDrive\\Documents\\Folder_sizes.xlsx' has been generated.\n"
     ]
    }
   ],
   "source": [
    "import os\n",
    "import openpyxl\n",
    "from tqdm import tqdm\n",
    "\n",
    "def get_folder_size(folder):\n",
    "    total_size = 0\n",
    "    for dirpath, dirnames, filenames in os.walk(folder):\n",
    "        for filename in filenames:\n",
    "            filepath = os.path.join(dirpath, filename)\n",
    "            total_size += os.path.getsize(filepath)\n",
    "    return total_size\n",
    "\n",
    "def convert_size(size_bytes):\n",
    "    # Convert bytes to GB\n",
    "    size_gb = size_bytes / (1024 * 1024 * 1024)\n",
    "    return f\"{size_gb:.2f}\"\n",
    "\n",
    "def get_folders_data(root_folder):\n",
    "    folders_data = []\n",
    "    for dirpath, dirnames, filenames in os.walk(root_folder):\n",
    "        folder_size = get_folder_size(dirpath)\n",
    "        folder_size_human_readable = convert_size(folder_size)\n",
    "        folders_data.append((dirpath, folder_size_human_readable))\n",
    "    return folders_data\n",
    "\n",
    "def main():\n",
    "    root_folder = r\"C:\\\\\"\n",
    "    output_file = \"C:\\\\Users\\\\Dhairyashil\\\\OneDrive\\\\Documents\\\\Folder_sizes\"\n",
    "\n",
    "    folders_data = get_folders_data(root_folder)\n",
    "\n",
    "    wb = openpyxl.Workbook()\n",
    "    ws = wb.active\n",
    "    ws.append(['Folder Path', 'Size'])\n",
    "\n",
    "    with tqdm(total=len(folders_data), desc=\"Processing\") as pbar:\n",
    "        for folder_path, size in folders_data:\n",
    "            ws.append([folder_path, size])\n",
    "            pbar.update(1)\n",
    "\n",
    "    output_file += '.xlsx'\n",
    "    wb.save(output_file)\n",
    "    print(f\"Excel file '{output_file}' has been generated.\")\n",
    "\n",
    "if __name__ == \"__main__\":\n",
    "    main()\n"
   ]
  }
 ],
 "metadata": {
  "kernelspec": {
   "display_name": "Python 3",
   "language": "python",
   "name": "python3"
  },
  "language_info": {
   "codemirror_mode": {
    "name": "ipython",
    "version": 3
   },
   "file_extension": ".py",
   "mimetype": "text/x-python",
   "name": "python",
   "nbconvert_exporter": "python",
   "pygments_lexer": "ipython3",
   "version": "3.12.2"
  }
 },
 "nbformat": 4,
 "nbformat_minor": 2
}
